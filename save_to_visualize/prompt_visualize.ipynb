{
 "cells": [
  {
   "cell_type": "code",
   "execution_count": 2,
   "metadata": {},
   "outputs": [],
   "source": [
    "import numpy as np\n",
    "import os\n",
    "import torch\n",
    "import matplotlib.pyplot as plt\n",
    "from sklearn.manifold import TSNE"
   ]
  },
  {
   "cell_type": "code",
   "execution_count": 3,
   "metadata": {},
   "outputs": [],
   "source": [
    "data_path = \"../output_1211/L2P_Prob_only_global/train/client_1\"\n",
    "proposed_test_embedding = torch.load(os.path.join(data_path, 'embedding_after_classifier_round_250.pt'))\n",
    "label = torch.load(os.path.join(data_path, 'label_round_250.pt'))"
   ]
  },
  {
   "cell_type": "code",
   "execution_count": 4,
   "metadata": {},
   "outputs": [],
   "source": [
    "data_path = \"../output_1211/missing_aware/train/client_1\"\n",
    "missing_test_embedding = torch.load(os.path.join(data_path, 'embedding_before_classifier_round_250.pt'))\n",
    "miss_label = torch.load(os.path.join(data_path, 'label_round_250.pt'))"
   ]
  },
  {
   "cell_type": "code",
   "execution_count": 5,
   "metadata": {},
   "outputs": [
    {
     "data": {
      "text/plain": [
       "False"
      ]
     },
     "execution_count": 5,
     "metadata": {},
     "output_type": "execute_result"
    }
   ],
   "source": [
    "label==miss_label"
   ]
  },
  {
   "cell_type": "code",
   "execution_count": 6,
   "metadata": {},
   "outputs": [
    {
     "name": "stdout",
     "output_type": "stream",
     "text": [
      "Counter({1: 32, 3: 32, 0: 32, 2: 32, 4: 32, 5: 30, 7: 30, 6: 29}) Counter({3: 32, 1: 32, 0: 32, 2: 32, 4: 32, 7: 30, 5: 30, 6: 29})\n"
     ]
    },
    {
     "data": {
      "text/plain": [
       "True"
      ]
     },
     "execution_count": 6,
     "metadata": {},
     "output_type": "execute_result"
    }
   ],
   "source": [
    "from collections import Counter\n",
    "# Count occurrences of each element\n",
    "element_counts = Counter(label)\n",
    "element_counts_miss = Counter(miss_label)\n",
    "\n",
    "\n",
    "print(element_counts, element_counts_miss)\n",
    "element_counts == element_counts_miss\n"
   ]
  },
  {
   "cell_type": "code",
   "execution_count": null,
   "metadata": {},
   "outputs": [],
   "source": []
  }
 ],
 "metadata": {
  "kernelspec": {
   "display_name": "fmfl",
   "language": "python",
   "name": "python3"
  },
  "language_info": {
   "codemirror_mode": {
    "name": "ipython",
    "version": 3
   },
   "file_extension": ".py",
   "mimetype": "text/x-python",
   "name": "python",
   "nbconvert_exporter": "python",
   "pygments_lexer": "ipython3",
   "version": "3.8.20"
  }
 },
 "nbformat": 4,
 "nbformat_minor": 2
}
