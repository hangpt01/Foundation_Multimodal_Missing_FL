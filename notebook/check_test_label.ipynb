{
 "cells": [
  {
   "cell_type": "code",
   "execution_count": null,
   "metadata": {},
   "outputs": [],
   "source": [
    "import torch\n",
    "import pyarrow as pa"
   ]
  },
  {
   "cell_type": "code",
   "execution_count": null,
   "metadata": {},
   "outputs": [],
   "source": [
    "tables = [\n",
    "                pa.ipc.RecordBatchFileReader(\n",
    "                pa.memory_map(f\"../benchmark/RAW_DATA/FOOD101/food101_test.arrow\", \"r\")\n",
    "            ).read_all()\n",
    "        ]\n",
    "        \n",
    "remove_duplicate = False\n",
    "table = pa.concat_tables(tables, promote=True)\n",
    "\n",
    "#-------------------------------------------------------\n",
    "# use a subset of data \n",
    "total_rows = table.num_rows\n",
    "# Determine the range of rows you want to extract (for example, the first quarter of the data)\n",
    "start_index = 0\n",
    "end_index = total_rows // 30\n",
    "# Extract the subset of the table\n",
    "table = table.slice(start_index, end_index)\n",
    "#-------------------------------------------------------\n",
    "\n",
    "all_texts = table['text'].to_pandas().tolist()\n",
    "all_texts = (      # len: 61227\n",
    "    [list(set(texts)) for texts in all_texts]\n",
    "    if remove_duplicate\n",
    "    else all_texts\n",
    ")\n",
    "\n",
    "labels = table[\"label\"].to_pandas().tolist()"
   ]
  }
 ],
 "metadata": {
  "language_info": {
   "name": "python"
  }
 },
 "nbformat": 4,
 "nbformat_minor": 2
}
